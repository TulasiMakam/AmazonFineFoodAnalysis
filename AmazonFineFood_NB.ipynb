{
 "cells": [
  {
   "cell_type": "markdown",
   "metadata": {},
   "source": [
    "# Amazon Fine Food_Navie Bayes"
   ]
  },
  {
   "cell_type": "markdown",
   "metadata": {},
   "source": [
    "# 1 Data Loading and Preprocessing"
   ]
  },
  {
   "cell_type": "markdown",
   "metadata": {},
   "source": [
    "# 1.1 Loading the data"
   ]
  },
  {
   "cell_type": "code",
   "execution_count": 39,
   "metadata": {},
   "outputs": [
    {
     "name": "stdout",
     "output_type": "stream",
     "text": [
      "number of attributes and size of the data is\n",
      "(525814, 10)\n"
     ]
    },
    {
     "data": {
      "text/html": [
       "<div>\n",
       "<style scoped>\n",
       "    .dataframe tbody tr th:only-of-type {\n",
       "        vertical-align: middle;\n",
       "    }\n",
       "\n",
       "    .dataframe tbody tr th {\n",
       "        vertical-align: top;\n",
       "    }\n",
       "\n",
       "    .dataframe thead th {\n",
       "        text-align: right;\n",
       "    }\n",
       "</style>\n",
       "<table border=\"1\" class=\"dataframe\">\n",
       "  <thead>\n",
       "    <tr style=\"text-align: right;\">\n",
       "      <th></th>\n",
       "      <th>Id</th>\n",
       "      <th>ProductId</th>\n",
       "      <th>UserId</th>\n",
       "      <th>ProfileName</th>\n",
       "      <th>HelpfulnessNumerator</th>\n",
       "      <th>HelpfulnessDenominator</th>\n",
       "      <th>Score</th>\n",
       "      <th>Time</th>\n",
       "      <th>Summary</th>\n",
       "      <th>Text</th>\n",
       "    </tr>\n",
       "  </thead>\n",
       "  <tbody>\n",
       "    <tr>\n",
       "      <th>0</th>\n",
       "      <td>1</td>\n",
       "      <td>B001E4KFG0</td>\n",
       "      <td>A3SGXH7AUHU8GW</td>\n",
       "      <td>delmartian</td>\n",
       "      <td>1</td>\n",
       "      <td>1</td>\n",
       "      <td>positive</td>\n",
       "      <td>1303862400</td>\n",
       "      <td>Good Quality Dog Food</td>\n",
       "      <td>I have bought several of the Vitality canned d...</td>\n",
       "    </tr>\n",
       "    <tr>\n",
       "      <th>1</th>\n",
       "      <td>2</td>\n",
       "      <td>B00813GRG4</td>\n",
       "      <td>A1D87F6ZCVE5NK</td>\n",
       "      <td>dll pa</td>\n",
       "      <td>0</td>\n",
       "      <td>0</td>\n",
       "      <td>negative</td>\n",
       "      <td>1346976000</td>\n",
       "      <td>Not as Advertised</td>\n",
       "      <td>Product arrived labeled as Jumbo Salted Peanut...</td>\n",
       "    </tr>\n",
       "    <tr>\n",
       "      <th>2</th>\n",
       "      <td>3</td>\n",
       "      <td>B000LQOCH0</td>\n",
       "      <td>ABXLMWJIXXAIN</td>\n",
       "      <td>Natalia Corres \"Natalia Corres\"</td>\n",
       "      <td>1</td>\n",
       "      <td>1</td>\n",
       "      <td>positive</td>\n",
       "      <td>1219017600</td>\n",
       "      <td>\"Delight\" says it all</td>\n",
       "      <td>This is a confection that has been around a fe...</td>\n",
       "    </tr>\n",
       "    <tr>\n",
       "      <th>3</th>\n",
       "      <td>4</td>\n",
       "      <td>B000UA0QIQ</td>\n",
       "      <td>A395BORC6FGVXV</td>\n",
       "      <td>Karl</td>\n",
       "      <td>3</td>\n",
       "      <td>3</td>\n",
       "      <td>negative</td>\n",
       "      <td>1307923200</td>\n",
       "      <td>Cough Medicine</td>\n",
       "      <td>If you are looking for the secret ingredient i...</td>\n",
       "    </tr>\n",
       "    <tr>\n",
       "      <th>4</th>\n",
       "      <td>5</td>\n",
       "      <td>B006K2ZZ7K</td>\n",
       "      <td>A1UQRSCLF8GW1T</td>\n",
       "      <td>Michael D. Bigham \"M. Wassir\"</td>\n",
       "      <td>0</td>\n",
       "      <td>0</td>\n",
       "      <td>positive</td>\n",
       "      <td>1350777600</td>\n",
       "      <td>Great taffy</td>\n",
       "      <td>Great taffy at a great price.  There was a wid...</td>\n",
       "    </tr>\n",
       "  </tbody>\n",
       "</table>\n",
       "</div>"
      ],
      "text/plain": [
       "   Id   ProductId          UserId                      ProfileName  \\\n",
       "0   1  B001E4KFG0  A3SGXH7AUHU8GW                       delmartian   \n",
       "1   2  B00813GRG4  A1D87F6ZCVE5NK                           dll pa   \n",
       "2   3  B000LQOCH0   ABXLMWJIXXAIN  Natalia Corres \"Natalia Corres\"   \n",
       "3   4  B000UA0QIQ  A395BORC6FGVXV                             Karl   \n",
       "4   5  B006K2ZZ7K  A1UQRSCLF8GW1T    Michael D. Bigham \"M. Wassir\"   \n",
       "\n",
       "   HelpfulnessNumerator  HelpfulnessDenominator     Score        Time  \\\n",
       "0                     1                       1  positive  1303862400   \n",
       "1                     0                       0  negative  1346976000   \n",
       "2                     1                       1  positive  1219017600   \n",
       "3                     3                       3  negative  1307923200   \n",
       "4                     0                       0  positive  1350777600   \n",
       "\n",
       "                 Summary                                               Text  \n",
       "0  Good Quality Dog Food  I have bought several of the Vitality canned d...  \n",
       "1      Not as Advertised  Product arrived labeled as Jumbo Salted Peanut...  \n",
       "2  \"Delight\" says it all  This is a confection that has been around a fe...  \n",
       "3         Cough Medicine  If you are looking for the secret ingredient i...  \n",
       "4            Great taffy  Great taffy at a great price.  There was a wid...  "
      ]
     },
     "execution_count": 39,
     "metadata": {},
     "output_type": "execute_result"
    }
   ],
   "source": [
    " %matplotlib inline\n",
    "import warnings\n",
    "warnings.filterwarnings(\"ignore\")\n",
    "\n",
    "import sqlite3\n",
    "import pandas as pd\n",
    "import numpy as np\n",
    "import nltk\n",
    "import string\n",
    "import re\n",
    "import matplotlib.pyplot as plt\n",
    "import seaborn as sns\n",
    "import math\n",
    "\n",
    "from sklearn import datasets\n",
    "from sklearn.neighbors import KNeighborsClassifier\n",
    "from sklearn.model_selection import train_test_split\n",
    "from sklearn.metrics import confusion_matrix\n",
    "from sklearn.preprocessing import StandardScaler\n",
    "from sklearn.feature_extraction.text import CountVectorizer\n",
    "\n",
    "from sklearn import metrics\n",
    "from sklearn.metrics import roc_curve, auc\n",
    "from nltk.stem.porter import PorterStemmer\n",
    "\n",
    "from nltk.stem import SnowballStemmer\n",
    "from nltk.stem.wordnet import WordNetLemmatizer\n",
    "from sklearn.neighbors import KNeighborsClassifier\n",
    "from sklearn.metrics import accuracy_score,precision_score,recall_score,confusion_matrix,classification_report,f1_score\n",
    "from sklearn.decomposition import TruncatedSVD\n",
    "from sklearn import cross_validation\n",
    "from sklearn.cross_validation import cross_val_score\n",
    "from sklearn.feature_extraction.text import CountVectorizer\n",
    "from sklearn.feature_extraction.text import TfidfVectorizer\n",
    "import gensim\n",
    "\n",
    "from nltk.corpus import stopwords\n",
    "from nltk.stem import PorterStemmer\n",
    "from nltk.stem.wordnet import WordNetLemmatizer\n",
    "\n",
    "from gensim.models import Word2Vec\n",
    "from gensim.models import KeyedVectors\n",
    "import pickle\n",
    "\n",
    "con = sqlite3.connect('database.sqlite') #loading data\n",
    "\n",
    "#filtering only positive and negative reviews\n",
    "filtered_data = pd.read_sql_query(\"\"\" SELECT * FROM Reviews WHERE Score != 3 \"\"\", con) \n",
    "\n",
    "# renaming the score with less than 3 to negative and more than 3 to positive\n",
    "def partition(x):\n",
    "    if x < 3:\n",
    "        return 'negative'\n",
    "    return 'positive'\n",
    "\n",
    "#changing reviews with score less than 3 to be positive and vice-versa\n",
    "actualScore = filtered_data['Score']\n",
    "positiveNegative = actualScore.map(partition) \n",
    "filtered_data['Score'] = positiveNegative\n",
    "\n",
    "print(\"number of attributes and size of the data is\")\n",
    "print(filtered_data.shape) #number of attributes and size of the data\n",
    "filtered_data.head() # prints first few rows"
   ]
  },
  {
   "cell_type": "markdown",
   "metadata": {},
   "source": [
    "# Time Based Splitting "
   ]
  },
  {
   "cell_type": "code",
   "execution_count": 40,
   "metadata": {},
   "outputs": [
    {
     "name": "stdout",
     "output_type": "stream",
     "text": [
      "(364171, 10)\n",
      "positive    307061\n",
      "negative     57110\n",
      "Name: Score, dtype: int64\n"
     ]
    }
   ],
   "source": [
    "sorted_values = filtered_data.sort_values('Time',kind = 'quicksort')\n",
    "final = sorted_values.drop_duplicates(subset= { 'UserId', 'ProfileName', 'Time',  'Text'})\n",
    "final = final[final.HelpfulnessNumerator <= final.HelpfulnessDenominator]\n",
    "#data_pos = final[final[\"Score\"] == \"positive\"].sample(n = 25000)\n",
    "#data_neg = final[final[\"Score\"] == \"negative\"].sample(n = 25000)\n",
    "#final = pd.concat([data_pos, data_neg])\n",
    "print(final.shape)\n",
    "print(final['Score'].value_counts())"
   ]
  },
  {
   "cell_type": "markdown",
   "metadata": {},
   "source": [
    "# 1.2 Preprocessing"
   ]
  },
  {
   "cell_type": "code",
   "execution_count": 41,
   "metadata": {},
   "outputs": [
    {
     "name": "stdout",
     "output_type": "stream",
     "text": [
      "Stop words found in the given dataset are:\n",
      "{'after', 'our', 'than', 'has', 'didn', 'such', 'ain', 'won', 'needn', 'been', \"haven't\", 'whom', 'once', 'weren', 'do', 'her', \"couldn't\", 've', 're', \"hadn't\", 'wouldn', 'with', 'couldn', 'before', 'itself', 'own', 'here', 'because', 'some', \"it's\", 'at', 'that', 'having', 'most', 'through', 'as', 'what', 'an', 'have', \"isn't\", 'just', \"won't\", 'all', 'further', 'up', 'no', 'a', 'under', 'isn', 't', 'hadn', 'i', \"she's\", \"doesn't\", 'she', 'below', 'for', 'herself', 'haven', \"weren't\", 'so', 'did', 'and', 'being', 'where', 'shouldn', 'o', \"should've\", 'both', 'but', 'aren', 'my', 'yourselves', \"hasn't\", 'on', 'more', \"you've\", 'against', 'me', 'until', 'there', \"mightn't\", 'when', \"you'd\", 'hasn', 'are', 'his', 'will', \"wasn't\", 'its', 'who', 'were', 'of', 'am', \"that'll\", 'while', 'into', 'in', 'down', 'doesn', \"aren't\", 'above', 'y', 'don', 'should', 'out', 'ourselves', 'too', 'd', 'by', 'be', 'now', 'off', \"you'll\", \"wouldn't\", 'nor', 'yourself', 'same', 'they', 'is', 'themselves', 'myself', 'those', 'he', 'the', 'only', 'hers', 'does', 'ours', 'm', 'any', 'mightn', 'ma', 'few', 'had', 'other', \"mustn't\", 'over', 'how', 'their', \"don't\", 'himself', 'yours', 'this', 'mustn', 'shan', 'or', 'your', 'between', 'each', 'can', \"shouldn't\", 'you', \"didn't\", \"shan't\", \"you're\", 'theirs', 'them', 'during', 'doing', 'him', 'very', 'was', 'why', 'again', 'it', 'which', 'if', 's', 'from', \"needn't\", 'not', 'll', 'wasn', 'then', 'about', 'these', 'to', 'we'}\n"
     ]
    }
   ],
   "source": [
    "import nltk\n",
    "from nltk.stem import SnowballStemmer\n",
    "import re\n",
    "stop = set(stopwords.words('english')) #set of stopwords\n",
    "sno = nltk.stem.SnowballStemmer('english') #initialising the snowball stemmer\n",
    "\n",
    "#function to remove html tagged words\n",
    "def removehtml(sentence): \n",
    "    remove = re.compile('<.*?>')\n",
    "    removetext = re.sub(remove, ' ', sentence)\n",
    "    return removetext\n",
    "\n",
    "#function to remove word of any pinctuation and special characters\n",
    "def removepunct(sentence): \n",
    "    removed = re.sub(r'[?|!|\\'|\"|#]',r'',sentence)\n",
    "    removed = re.sub(r'[.|,|)|(|\\|/]',r' ',removed)\n",
    "    return  removed\n",
    "\n",
    "print(\"Stop words found in the given dataset are:\")\n",
    "print(stop)"
   ]
  },
  {
   "cell_type": "code",
   "execution_count": 42,
   "metadata": {},
   "outputs": [],
   "source": [
    "#Code for implementing step-by-step the checks mentioned in the pre-processing phase\n",
    "# this code takes a while to run as it needs to run on 500k sentences.\n",
    "i=0\n",
    "str1=' '\n",
    "final_string=[]\n",
    "all_positive_words=[] # store words from +ve reviews here\n",
    "all_negative_words=[] # store words from -ve reviews here.\n",
    "s=''\n",
    "for sent in final['Text'].values:\n",
    "    filtered_sentence=[]\n",
    "    sent=removehtml(sent) # calling function to remove HTMl tags\n",
    "    for w in sent.split():\n",
    "        for cleaned_words in removepunct(w).split(): #calling the function to remove punctuations and special characters and then split sentences into words \n",
    "            if((cleaned_words.isalpha()) & (len(cleaned_words)>2)):    \n",
    "                if(cleaned_words.lower() not in stop):\n",
    "                    s=(sno.stem(cleaned_words.lower())).encode('utf8')\n",
    "                    filtered_sentence.append(s)\n",
    "                    if (final['Score'].values)[i] == 'positive': \n",
    "                        all_positive_words.append(s) #list of all words used to describe positive reviews\n",
    "                    if(final['Score'].values)[i] == 'negative':\n",
    "                        all_negative_words.append(s) #list of all words used to describe negative reviews reviews\n",
    "                else:\n",
    "                    continue\n",
    "            else:\n",
    "                continue \n",
    "    str1 = b\" \".join(filtered_sentence) #final string of cleaned words\n",
    "    \n",
    "    final_string.append(str1)\n",
    "    i+=1"
   ]
  },
  {
   "cell_type": "code",
   "execution_count": 43,
   "metadata": {},
   "outputs": [],
   "source": [
    "final['CleanedText']=final_string #adding a column of CleanedText which displays the data after pre-processing of the review \n",
    "final['CleanedText']=final['CleanedText'].str.decode(\"utf-8\")"
   ]
  },
  {
   "cell_type": "markdown",
   "metadata": {},
   "source": [
    "# 2 Function for Navie Bayes using Bernoullie NB"
   ]
  },
  {
   "cell_type": "code",
   "execution_count": 44,
   "metadata": {},
   "outputs": [],
   "source": [
    "from sklearn.neighbors import KNeighborsClassifier\n",
    "from sklearn.naive_bayes import BernoulliNB\n",
    "def run_NB(X_Train,y_train):\n",
    "    global Final_Metrics\n",
    "    cv_scores = []\n",
    "    k_value = []\n",
    "    Train_Scores = []\n",
    "    Test_Scores = []\n",
    "    algo = 'Naive Bayes'\n",
    "    j=0    \n",
    "    for i in range(2,30,2):\n",
    "        nb = BernoulliNB(alpha=i)\n",
    "        scores = cross_val_score(nb, X_Train, y_train, cv=10, scoring='accuracy')\n",
    "        cv_scores.append(scores.mean())\n",
    "        k_value.append(i)\n",
    "        print('For Alpha = ', i,'Accuracy Score = ', cv_scores[j]) \n",
    "        j+=1\n",
    "    alpha_optimum = k_value[cv_scores.index(max(cv_scores))]\n",
    "    plt.plot(k_value,cv_scores,'-o')\n",
    "    plt.xlabel('Alpha Value')\n",
    "    plt.ylabel('CV-Scores')\n",
    "    plt.title('Alpha Value vs CV-Scores')\n",
    "    print('*' * 100)\n",
    "    return alpha_optimum"
   ]
  },
  {
   "cell_type": "markdown",
   "metadata": {},
   "source": [
    "# 2.1 BOW"
   ]
  },
  {
   "cell_type": "code",
   "execution_count": 45,
   "metadata": {},
   "outputs": [
    {
     "name": "stdout",
     "output_type": "stream",
     "text": [
      "(254919,) (109252,) (254919,) (109252,)\n"
     ]
    }
   ],
   "source": [
    "x_train, x_test, y_train, y_test = train_test_split(final['CleanedText'], final['Score'], random_state = 0,test_size = 0.3)\n",
    "print(x_train.shape, x_test.shape, y_train.shape, y_test.shape)"
   ]
  },
  {
   "cell_type": "code",
   "execution_count": 46,
   "metadata": {},
   "outputs": [
    {
     "name": "stdout",
     "output_type": "stream",
     "text": [
      "(254919, 60218)\n",
      "(109252, 60218)\n",
      "(254919,)\n",
      "(109252,)\n",
      "For Alpha =  2 Accuracy Score =  0.8784594301659819\n",
      "For Alpha =  4 Accuracy Score =  0.8681894997089726\n",
      "For Alpha =  6 Accuracy Score =  0.8599045181690108\n",
      "For Alpha =  8 Accuracy Score =  0.8538398593524394\n",
      "For Alpha =  10 Accuracy Score =  0.849846431801746\n",
      "For Alpha =  12 Accuracy Score =  0.8472181413355118\n",
      "For Alpha =  14 Accuracy Score =  0.8456058629699852\n",
      "For Alpha =  16 Accuracy Score =  0.844342719744754\n",
      "For Alpha =  18 Accuracy Score =  0.843432624148924\n",
      "For Alpha =  20 Accuracy Score =  0.8431109532203503\n",
      "For Alpha =  22 Accuracy Score =  0.8428441967117273\n",
      "For Alpha =  24 Accuracy Score =  0.8426519803148725\n",
      "For Alpha =  26 Accuracy Score =  0.8425499884559919\n",
      "For Alpha =  28 Accuracy Score =  0.8425186045226193\n",
      "****************************************************************************************************\n",
      "Optimal k value for BoW : 2\n"
     ]
    },
    {
     "data": {
      "image/png": "[encoded data removed]",
      "text/plain": [
       "<Figure size 432x288 with 1 Axes>"
      ]
     },
     "metadata": {},
     "output_type": "display_data"
    }
   ],
   "source": [
    "vect = CountVectorizer(binary=True)\n",
    "x_train = vect.fit_transform(x_train)\n",
    "x_test = vect.transform(x_test)\n",
    "print(x_train.shape)\n",
    "print(x_test.shape)\n",
    "print(y_train.shape)\n",
    "print(y_test.shape)\n",
    "alpha_optimum_bow = run_NB(x_train,y_train)\n",
    "print(\"Optimal k value for BoW :\" ,alpha_optimum_bow)"
   ]
  },
  {
   "cell_type": "code",
   "execution_count": 47,
   "metadata": {},
   "outputs": [],
   "source": [
    "nb_bow = BernoulliNB(alpha=alpha_optimum_bow)"
   ]
  },
  {
   "cell_type": "code",
   "execution_count": 48,
   "metadata": {},
   "outputs": [
    {
     "data": {
      "text/plain": [
       "BernoulliNB(alpha=2, binarize=0.0, class_prior=None, fit_prior=True)"
      ]
     },
     "execution_count": 48,
     "metadata": {},
     "output_type": "execute_result"
    }
   ],
   "source": [
    "nb_bow.fit(x_train, y_train)"
   ]
  },
  {
   "cell_type": "code",
   "execution_count": 49,
   "metadata": {},
   "outputs": [],
   "source": [
    "predict_bow = nb_bow.predict(x_test)"
   ]
  },
  {
   "cell_type": "code",
   "execution_count": 50,
   "metadata": {},
   "outputs": [
    {
     "name": "stdout",
     "output_type": "stream",
     "text": [
      "\n",
      "The accuracy of the knn classifier : 88.15948449456303\n"
     ]
    }
   ],
   "source": [
    "accuracy_bow = accuracy_score(y_test, predict_bow) * 100\n",
    "print('\\nThe accuracy of the knn classifier :' , accuracy_bow)"
   ]
  },
  {
   "cell_type": "code",
   "execution_count": 51,
   "metadata": {},
   "outputs": [
    {
     "name": "stdout",
     "output_type": "stream",
     "text": [
      "Train accuracy : 88.57323306618964\n"
     ]
    }
   ],
   "source": [
    "train_accuracy_bow = nb_bow.score(x_train, y_train)*100\n",
    "print(\"Train accuracy :\", train_accuracy_bow)"
   ]
  },
  {
   "cell_type": "code",
   "execution_count": 52,
   "metadata": {},
   "outputs": [
    {
     "name": "stdout",
     "output_type": "stream",
     "text": [
      "Train Error : 11.426766933810356\n"
     ]
    }
   ],
   "source": [
    "train_error_bow = 100-train_accuracy_bow\n",
    "print(\"Train Error :\", train_error_bow)"
   ]
  },
  {
   "cell_type": "code",
   "execution_count": 53,
   "metadata": {},
   "outputs": [
    {
     "name": "stdout",
     "output_type": "stream",
     "text": [
      "Test Error : 11.840515505436969\n"
     ]
    }
   ],
   "source": [
    "test_error_bow = 100-accuracy_bow\n",
    "print(\"Test Error :\" ,test_error_bow)"
   ]
  },
  {
   "cell_type": "code",
   "execution_count": 54,
   "metadata": {},
   "outputs": [
    {
     "data": {
      "image/png": "[encoded data removed]",
      "text/plain": [
       "<Figure size 432x288 with 2 Axes>"
      ]
     },
     "metadata": {},
     "output_type": "display_data"
    },
    {
     "name": "stdout",
     "output_type": "stream",
     "text": [
      "             precision    recall  f1-score   support\n",
      "\n",
      "   negative       0.66      0.51      0.57     17128\n",
      "   positive       0.91      0.95      0.93     92124\n",
      "\n",
      "avg / total       0.87      0.88      0.88    109252\n",
      "\n"
     ]
    }
   ],
   "source": [
    "import seaborn as sns\n",
    "from sklearn.metrics import confusion_matrix\n",
    "cm = confusion_matrix(y_test, predict_bow)\n",
    "\n",
    "class_label = [\"negative\", \"positive\"]\n",
    "df_cm = pd.DataFrame(cm, index = class_label, columns = class_label)\n",
    "sns.heatmap(df_cm, annot = True, fmt = \"d\")\n",
    "plt.title(\"Confusiion Matrix\")\n",
    "plt.xlabel(\"Predicted Label\")\n",
    "plt.ylabel(\"True Label\")\n",
    "plt.show()\n",
    "\n",
    "from sklearn.metrics import classification_report\n",
    "print(classification_report(y_test, predict_bow))"
   ]
  },
  {
   "cell_type": "markdown",
   "metadata": {},
   "source": [
    "# 2.2 TF-IDF"
   ]
  },
  {
   "cell_type": "code",
   "execution_count": 55,
   "metadata": {},
   "outputs": [
    {
     "name": "stdout",
     "output_type": "stream",
     "text": [
      "(254919,) (109252,) (254919,) (109252,)\n"
     ]
    }
   ],
   "source": [
    "x_train, x_test, y_train, y_test = train_test_split(final['CleanedText'], final['Score'], random_state = 0,test_size = 0.3)\n",
    "print(x_train.shape, x_test.shape, y_train.shape, y_test.shape)"
   ]
  },
  {
   "cell_type": "code",
   "execution_count": 56,
   "metadata": {},
   "outputs": [
    {
     "name": "stdout",
     "output_type": "stream",
     "text": [
      "(254919, 2338152) (109252, 2338152) (254919,) (109252,)\n",
      "For Alpha =  2 Accuracy Score =  0.8375013338919162\n",
      "For Alpha =  4 Accuracy Score =  0.8410985434772729\n",
      "For Alpha =  6 Accuracy Score =  0.842357766980793\n",
      "For Alpha =  8 Accuracy Score =  0.8427147458730928\n",
      "For Alpha =  10 Accuracy Score =  0.8429187323606495\n",
      "For Alpha =  12 Accuracy Score =  0.8430246484037255\n",
      "For Alpha =  14 Accuracy Score =  0.8430599526742226\n",
      "For Alpha =  16 Accuracy Score =  0.8430913347609563\n",
      "For Alpha =  18 Accuracy Score =  0.8431109489113817\n",
      "For Alpha =  20 Accuracy Score =  0.8431305629079298\n",
      "For Alpha =  22 Accuracy Score =  0.8431384091220829\n",
      "For Alpha =  24 Accuracy Score =  0.8431384091220829\n",
      "For Alpha =  26 Accuracy Score =  0.8431384089681935\n",
      "For Alpha =  28 Accuracy Score =  0.8431501775200239\n",
      "****************************************************************************************************\n"
     ]
    },
    {
     "data": {
      "text/plain": [
       "28"
      ]
     },
     "execution_count": 56,
     "metadata": {},
     "output_type": "execute_result"
    },
    {
     "data": {
      "image/png": "[encoded data removed]",
      "text/plain": [
       "<Figure size 432x288 with 1 Axes>"
      ]
     },
     "metadata": {},
     "output_type": "display_data"
    }
   ],
   "source": [
    "tf_idf_vect = TfidfVectorizer(ngram_range=(1,2),binary=True)\n",
    "x_train = tf_idf_vect.fit_transform(x_train)\n",
    "x_test = tf_idf_vect.transform(x_test)\n",
    "print(x_train.shape, x_test.shape, y_train.shape, y_test.shape)\n",
    "alpha_optimum_tfidf = run_NB(x_train, y_train)\n",
    "alpha_optimum_tfidf"
   ]
  },
  {
   "cell_type": "code",
   "execution_count": 57,
   "metadata": {},
   "outputs": [],
   "source": [
    "nb_tfidf = BernoulliNB(alpha=alpha_optimum_tfidf)"
   ]
  },
  {
   "cell_type": "code",
   "execution_count": 58,
   "metadata": {},
   "outputs": [
    {
     "data": {
      "text/plain": [
       "BernoulliNB(alpha=28, binarize=0.0, class_prior=None, fit_prior=True)"
      ]
     },
     "execution_count": 58,
     "metadata": {},
     "output_type": "execute_result"
    }
   ],
   "source": [
    "nb_tfidf.fit(x_train, y_train)"
   ]
  },
  {
   "cell_type": "code",
   "execution_count": 59,
   "metadata": {},
   "outputs": [],
   "source": [
    "predict_tfidf = nb_tfidf.predict(x_test)"
   ]
  },
  {
   "cell_type": "code",
   "execution_count": 60,
   "metadata": {},
   "outputs": [
    {
     "name": "stdout",
     "output_type": "stream",
     "text": [
      "\n",
      "The accuracy of the knn classifier : 88.15948449456303\n"
     ]
    }
   ],
   "source": [
    "accuracy_tfidf = accuracy_score(y_test, predict_tfidf) * 100\n",
    "print('\\nThe accuracy of the knn classifier :' , accuracy_bow)"
   ]
  },
  {
   "cell_type": "code",
   "execution_count": 61,
   "metadata": {},
   "outputs": [
    {
     "name": "stdout",
     "output_type": "stream",
     "text": [
      "Train accuracy : 84.31423314856876\n"
     ]
    }
   ],
   "source": [
    "train_accuracy_tfidf = nb_tfidf.score(x_train, y_train)*100\n",
    "print(\"Train accuracy :\", train_accuracy_tfidf)"
   ]
  },
  {
   "cell_type": "code",
   "execution_count": 62,
   "metadata": {},
   "outputs": [
    {
     "name": "stdout",
     "output_type": "stream",
     "text": [
      "Train Error : 15.68576685143124\n"
     ]
    }
   ],
   "source": [
    "train_error_tfidf = 100-train_accuracy_tfidf\n",
    "print(\"Train Error :\", train_error_tfidf)"
   ]
  },
  {
   "cell_type": "code",
   "execution_count": 63,
   "metadata": {},
   "outputs": [
    {
     "name": "stdout",
     "output_type": "stream",
     "text": [
      "Test Error : 15.678431516127858\n"
     ]
    }
   ],
   "source": [
    "test_error_tfidf = 100-accuracy_tfidf\n",
    "print(\"Test Error :\" ,test_error_tfidf)"
   ]
  },
  {
   "cell_type": "code",
   "execution_count": 64,
   "metadata": {},
   "outputs": [
    {
     "data": {
      "image/png": "[encoded data removed]",
      "text/plain": [
       "<Figure size 432x288 with 2 Axes>"
      ]
     },
     "metadata": {},
     "output_type": "display_data"
    },
    {
     "name": "stdout",
     "output_type": "stream",
     "text": [
      "             precision    recall  f1-score   support\n",
      "\n",
      "   negative       0.00      0.00      0.00     17128\n",
      "   positive       0.84      1.00      0.91     92124\n",
      "\n",
      "avg / total       0.71      0.84      0.77    109252\n",
      "\n"
     ]
    }
   ],
   "source": [
    "import seaborn as sns\n",
    "from sklearn.metrics import confusion_matrix\n",
    "cm = confusion_matrix(y_test, predict_tfidf)\n",
    "\n",
    "class_label = [\"negative\", \"positive\"]\n",
    "df_cm = pd.DataFrame(cm, index = class_label, columns = class_label)\n",
    "sns.heatmap(df_cm, annot = True, fmt = \"d\")\n",
    "plt.title(\"Confusiion Matrix\")\n",
    "plt.xlabel(\"Predicted Label\")\n",
    "plt.ylabel(\"True Label\")\n",
    "plt.show()\n",
    "\n",
    "from sklearn.metrics import classification_report\n",
    "print(classification_report(y_test, predict_tfidf))"
   ]
  },
  {
   "cell_type": "markdown",
   "metadata": {},
   "source": [
    "# Comparasion Table for Bernoulli NB:"
   ]
  },
  {
   "cell_type": "code",
   "execution_count": 65,
   "metadata": {},
   "outputs": [
    {
     "name": "stdout",
     "output_type": "stream",
     "text": [
      "+--------------+-----------------+-------------------+--------------------+--------------------+\n",
      "|    Model     | Hyper parameter |      Accuracy     |    Train Error     |     Test Error     |\n",
      "+--------------+-----------------+-------------------+--------------------+--------------------+\n",
      "| Bag Of Words |        2        | 88.15948449456303 | 11.426766933810356 | 11.840515505436969 |\n",
      "|    TF-IDF    |        28       | 84.32156848387214 | 15.68576685143124  | 15.678431516127858 |\n",
      "+--------------+-----------------+-------------------+--------------------+--------------------+\n"
     ]
    }
   ],
   "source": [
    "from prettytable import PrettyTable\n",
    "    \n",
    "x = PrettyTable()\n",
    "\n",
    "x.field_names = [\"Model\",\"Hyper parameter\", \"Accuracy\" , \"Train Error\", \"Test Error\"]\n",
    "\n",
    "x.add_row([\"Bag Of Words\",alpha_optimum_bow,accuracy_bow, train_error_bow , test_error_bow])\n",
    "x.add_row([\"TF-IDF\",alpha_optimum_tfidf,accuracy_tfidf, train_error_tfidf , test_error_tfidf ])\n",
    "print(x)"
   ]
  },
  {
   "cell_type": "markdown",
   "metadata": {},
   "source": [
    "# 2.5 Conclusion:\n",
    "\n",
    "1. Results of the above model may vary based on the number of samples considered. \n",
    "2. By comparing the results of all the above 4 models, acurracy is almost same for all the models, it is bit high for BOW i.e., 88% , hence we can use BOW for predicting the reviews."
   ]
  },
  {
   "cell_type": "markdown",
   "metadata": {},
   "source": [
    "# 3 Function for Navie Bayes using Nominal NB"
   ]
  },
  {
   "cell_type": "markdown",
   "metadata": {},
   "source": [
    "# 3.1 BOW:"
   ]
  },
  {
   "cell_type": "code",
   "execution_count": 66,
   "metadata": {},
   "outputs": [],
   "source": [
    "from sklearn.neighbors import KNeighborsClassifier\n",
    "from sklearn.naive_bayes import MultinomialNB\n",
    "def run_NB(X_Train,y_train):\n",
    "    global Final_Metrics\n",
    "    cv_scores = []\n",
    "    k_value = []\n",
    "    Train_Scores = []\n",
    "    Test_Scores = []\n",
    "    algo = 'Naive Bayes'\n",
    "    j=0    \n",
    "    for i in range(2,30,2):\n",
    "        nb = MultinomialNB(alpha=i)\n",
    "        scores = cross_val_score(nb, X_Train, y_train, cv=10, scoring='accuracy')\n",
    "        cv_scores.append(scores.mean())\n",
    "        k_value.append(i)\n",
    "        print('For Alpha = ', i,'Accuracy Score = ', cv_scores[j]) \n",
    "        j+=1\n",
    "    alpha_optimum = k_value[cv_scores.index(max(cv_scores))]\n",
    "    plt.plot(k_value,cv_scores,'-o')\n",
    "    plt.xlabel('Alpha Value')\n",
    "    plt.ylabel('CV-Scores')\n",
    "    plt.title('Alpha Value vs CV-Scores')\n",
    "    print('*' * 100)\n",
    "    return alpha_optimum"
   ]
  },
  {
   "cell_type": "code",
   "execution_count": 67,
   "metadata": {},
   "outputs": [
    {
     "name": "stdout",
     "output_type": "stream",
     "text": [
      "(254919,) (109252,) (254919,) (109252,)\n"
     ]
    }
   ],
   "source": [
    "x_train, x_test, y_train, y_test = train_test_split(final['CleanedText'], final['Score'], random_state = 0,test_size = 0.3)\n",
    "print(x_train.shape, x_test.shape, y_train.shape, y_test.shape)"
   ]
  },
  {
   "cell_type": "code",
   "execution_count": 68,
   "metadata": {},
   "outputs": [
    {
     "name": "stdout",
     "output_type": "stream",
     "text": [
      "(254919, 60218)\n",
      "(109252, 60218)\n",
      "(254919,)\n",
      "(109252,)\n",
      "For Alpha =  2 Accuracy Score =  0.9050717864157782\n",
      "For Alpha =  4 Accuracy Score =  0.8986226777241161\n",
      "For Alpha =  6 Accuracy Score =  0.8869640784654239\n",
      "For Alpha =  8 Accuracy Score =  0.8758115278579439\n",
      "For Alpha =  10 Accuracy Score =  0.8669067392559711\n",
      "For Alpha =  12 Accuracy Score =  0.8600339722393869\n",
      "For Alpha =  14 Accuracy Score =  0.8551265333719794\n",
      "For Alpha =  16 Accuracy Score =  0.8516823026494208\n",
      "For Alpha =  18 Accuracy Score =  0.849183469946478\n",
      "For Alpha =  20 Accuracy Score =  0.8474142806855657\n",
      "For Alpha =  22 Accuracy Score =  0.846276661190594\n",
      "For Alpha =  24 Accuracy Score =  0.8453547973506886\n",
      "For Alpha =  26 Accuracy Score =  0.8447349944438169\n",
      "For Alpha =  28 Accuracy Score =  0.8442564087727993\n",
      "****************************************************************************************************\n",
      "Optimal k value for BoW : 2\n"
     ]
    },
    {
     "data": {
      "image/png": "[encoded data removed]",
      "text/plain": [
       "<Figure size 432x288 with 1 Axes>"
      ]
     },
     "metadata": {},
     "output_type": "display_data"
    }
   ],
   "source": [
    "vect = CountVectorizer(binary=True)\n",
    "x_train = vect.fit_transform(x_train)\n",
    "x_test = vect.transform(x_test)\n",
    "print(x_train.shape)\n",
    "print(x_test.shape)\n",
    "print(y_train.shape)\n",
    "print(y_test.shape)\n",
    "alpha_optimum_bow = run_NB(x_train,y_train)\n",
    "print(\"Optimal k value for BoW :\" ,alpha_optimum_bow)"
   ]
  },
  {
   "cell_type": "code",
   "execution_count": 69,
   "metadata": {},
   "outputs": [
    {
     "name": "stdout",
     "output_type": "stream",
     "text": [
      "\n",
      "The accuracy of the knn classifier : 90.67385494087064\n",
      "Train accuracy : 91.24192390524048\n",
      "Train Error : 8.758076094759517\n",
      "Test Error : 9.32614505912936\n"
     ]
    }
   ],
   "source": [
    "nb_bow = MultinomialNB(alpha=alpha_optimum_bow)\n",
    "nb_bow.fit(x_train, y_train)\n",
    "predict_bow = nb_bow.predict(x_test)\n",
    "accuracy_bow = accuracy_score(y_test, predict_bow) * 100\n",
    "print('\\nThe accuracy of the knn classifier :' , accuracy_bow)\n",
    "train_accuracy_bow = nb_bow.score(x_train, y_train)*100\n",
    "print(\"Train accuracy :\", train_accuracy_bow)\n",
    "train_error_bow = 100-train_accuracy_bow\n",
    "print(\"Train Error :\", train_error_bow)\n",
    "test_error_bow = 100-accuracy_bow\n",
    "print(\"Test Error :\" ,test_error_bow)"
   ]
  },
  {
   "cell_type": "code",
   "execution_count": 70,
   "metadata": {},
   "outputs": [
    {
     "data": {
      "image/png": "[encoded data removed]",
      "text/plain": [
       "<Figure size 432x288 with 2 Axes>"
      ]
     },
     "metadata": {},
     "output_type": "display_data"
    },
    {
     "name": "stdout",
     "output_type": "stream",
     "text": [
      "             precision    recall  f1-score   support\n",
      "\n",
      "   negative       0.76      0.59      0.67     17128\n",
      "   positive       0.93      0.97      0.95     92124\n",
      "\n",
      "avg / total       0.90      0.91      0.90    109252\n",
      "\n"
     ]
    }
   ],
   "source": [
    "import seaborn as sns\n",
    "from sklearn.metrics import confusion_matrix\n",
    "cm = confusion_matrix(y_test, predict_bow)\n",
    "\n",
    "class_label = [\"negative\", \"positive\"]\n",
    "df_cm = pd.DataFrame(cm, index = class_label, columns = class_label)\n",
    "sns.heatmap(df_cm, annot = True, fmt = \"d\")\n",
    "plt.title(\"Confusiion Matrix\")\n",
    "plt.xlabel(\"Predicted Label\")\n",
    "plt.ylabel(\"True Label\")\n",
    "plt.show()\n",
    "\n",
    "from sklearn.metrics import classification_report\n",
    "print(classification_report(y_test, predict_bow))"
   ]
  },
  {
   "cell_type": "markdown",
   "metadata": {},
   "source": [
    "# 3.2 TF-IDF:"
   ]
  },
  {
   "cell_type": "code",
   "execution_count": 71,
   "metadata": {},
   "outputs": [
    {
     "name": "stdout",
     "output_type": "stream",
     "text": [
      "(254919,) (109252,) (254919,) (109252,)\n"
     ]
    }
   ],
   "source": [
    "x_train, x_test, y_train, y_test = train_test_split(final['CleanedText'], final['Score'], random_state = 0,test_size = 0.3)\n",
    "print(x_train.shape, x_test.shape, y_train.shape, y_test.shape)"
   ]
  },
  {
   "cell_type": "code",
   "execution_count": 72,
   "metadata": {},
   "outputs": [
    {
     "name": "stdout",
     "output_type": "stream",
     "text": [
      "(254919, 2338152) (109252, 2338152) (254919,) (109252,)\n",
      "For Alpha =  2 Accuracy Score =  0.843161945456296\n",
      "For Alpha =  4 Accuracy Score =  0.8431580229647533\n",
      "For Alpha =  6 Accuracy Score =  0.8431580229647533\n",
      "For Alpha =  8 Accuracy Score =  0.8431580229647533\n",
      "For Alpha =  10 Accuracy Score =  0.8431580229647533\n",
      "For Alpha =  12 Accuracy Score =  0.8431580229647533\n",
      "For Alpha =  14 Accuracy Score =  0.8431580229647533\n",
      "For Alpha =  16 Accuracy Score =  0.8431580229647533\n",
      "For Alpha =  18 Accuracy Score =  0.8431580229647533\n",
      "For Alpha =  20 Accuracy Score =  0.8431580229647533\n",
      "For Alpha =  22 Accuracy Score =  0.8431580229647533\n",
      "For Alpha =  24 Accuracy Score =  0.8431580229647533\n",
      "For Alpha =  26 Accuracy Score =  0.8431580229647533\n",
      "For Alpha =  28 Accuracy Score =  0.8431580229647533\n",
      "****************************************************************************************************\n"
     ]
    },
    {
     "data": {
      "text/plain": [
       "2"
      ]
     },
     "execution_count": 72,
     "metadata": {},
     "output_type": "execute_result"
    },
    {
     "data": {
      "image/png": "[encoded data removed]",
      "text/plain": [
       "<Figure size 432x288 with 1 Axes>"
      ]
     },
     "metadata": {},
     "output_type": "display_data"
    }
   ],
   "source": [
    "tf_idf_vect = TfidfVectorizer(ngram_range=(1,2),binary=True)\n",
    "x_train = tf_idf_vect.fit_transform(x_train)\n",
    "x_test = tf_idf_vect.transform(x_test)\n",
    "print(x_train.shape, x_test.shape, y_train.shape, y_test.shape)\n",
    "alpha_optimum_tfidf = run_NB(x_train, y_train)\n",
    "alpha_optimum_tfidf"
   ]
  },
  {
   "cell_type": "code",
   "execution_count": 73,
   "metadata": {},
   "outputs": [
    {
     "name": "stdout",
     "output_type": "stream",
     "text": [
      "\n",
      "The accuracy of the knn classifier : 90.67385494087064\n",
      "Train accuracy : 84.31815596326676\n",
      "Train Error : 15.681844036733239\n",
      "Test Error : 15.675685570973528\n"
     ]
    }
   ],
   "source": [
    "nb_tfidf = MultinomialNB(alpha=alpha_optimum_tfidf)\n",
    "nb_tfidf.fit(x_train, y_train)\n",
    "predict_tfidf = nb_tfidf.predict(x_test)\n",
    "accuracy_tfidf = accuracy_score(y_test, predict_tfidf) * 100\n",
    "print('\\nThe accuracy of the knn classifier :' , accuracy_bow)\n",
    "train_accuracy_tfidf = nb_tfidf.score(x_train, y_train)*100\n",
    "print(\"Train accuracy :\", train_accuracy_tfidf)\n",
    "train_error_tfidf = 100-train_accuracy_tfidf\n",
    "print(\"Train Error :\", train_error_tfidf)\n",
    "test_error_tfidf = 100-accuracy_tfidf\n",
    "print(\"Test Error :\" ,test_error_tfidf)"
   ]
  },
  {
   "cell_type": "code",
   "execution_count": 74,
   "metadata": {},
   "outputs": [
    {
     "data": {
      "image/png": "[encoded data removed]",
      "text/plain": [
       "<Figure size 432x288 with 2 Axes>"
      ]
     },
     "metadata": {},
     "output_type": "display_data"
    },
    {
     "name": "stdout",
     "output_type": "stream",
     "text": [
      "             precision    recall  f1-score   support\n",
      "\n",
      "   negative       1.00      0.00      0.00     17128\n",
      "   positive       0.84      1.00      0.91     92124\n",
      "\n",
      "avg / total       0.87      0.84      0.77    109252\n",
      "\n"
     ]
    }
   ],
   "source": [
    "import seaborn as sns\n",
    "from sklearn.metrics import confusion_matrix\n",
    "cm = confusion_matrix(y_test, predict_tfidf)\n",
    "\n",
    "class_label = [\"negative\", \"positive\"]\n",
    "df_cm = pd.DataFrame(cm, index = class_label, columns = class_label)\n",
    "sns.heatmap(df_cm, annot = True, fmt = \"d\")\n",
    "plt.title(\"Confusiion Matrix\")\n",
    "plt.xlabel(\"Predicted Label\")\n",
    "plt.ylabel(\"True Label\")\n",
    "plt.show()\n",
    "\n",
    "from sklearn.metrics import classification_report\n",
    "print(classification_report(y_test, predict_tfidf))"
   ]
  },
  {
   "cell_type": "markdown",
   "metadata": {},
   "source": [
    "# Comparasion Table for Multinominal NB:"
   ]
  },
  {
   "cell_type": "code",
   "execution_count": 75,
   "metadata": {},
   "outputs": [
    {
     "name": "stdout",
     "output_type": "stream",
     "text": [
      "+--------------+-----------------+-------------------+--------------------+--------------------+\n",
      "|    Model     | Hyper parameter |      Accuracy     |    Train Error     |     Test Error     |\n",
      "+--------------+-----------------+-------------------+--------------------+--------------------+\n",
      "| Bag Of Words |        2        | 90.67385494087064 | 8.758076094759517  |  9.32614505912936  |\n",
      "|    TF-IDF    |        2        | 84.32431442902647 | 15.681844036733239 | 15.675685570973528 |\n",
      "+--------------+-----------------+-------------------+--------------------+--------------------+\n"
     ]
    }
   ],
   "source": [
    "from prettytable import PrettyTable\n",
    "    \n",
    "x = PrettyTable()\n",
    "\n",
    "x.field_names = [\"Model\",\"Hyper parameter\", \"Accuracy\" , \"Train Error\", \"Test Error\"]\n",
    "\n",
    "x.add_row([\"Bag Of Words\",alpha_optimum_bow,accuracy_bow, train_error_bow , test_error_bow])\n",
    "x.add_row([\"TF-IDF\",alpha_optimum_tfidf,accuracy_tfidf, train_error_tfidf , test_error_tfidf ])\n",
    "print(x)"
   ]
  },
  {
   "cell_type": "markdown",
   "metadata": {},
   "source": [
    "# 3.5 Conclusion:\n",
    "\n",
    "1. Results of the above model may vary based on the number of samples considered. \n",
    "2. By comparing the results of all the above 4 models, acurracy is almost same for all the models, it is bit high for BOW i.e., 90% , hence we can use BOW for predicting the reviews."
   ]
  },
  {
   "cell_type": "code",
   "execution_count": null,
   "metadata": {},
   "outputs": [],
   "source": []
  }
 ],
 "metadata": {
  "kernelspec": {
   "display_name": "Python 3",
   "language": "python",
   "name": "python3"
  },
  "language_info": {
   "codemirror_mode": {
    "name": "ipython",
    "version": 3
   },
   "file_extension": ".py",
   "mimetype": "text/x-python",
   "name": "python",
   "nbconvert_exporter": "python",
   "pygments_lexer": "ipython3",
   "version": "3.6.5"
  }
 },
 "nbformat": 4,
 "nbformat_minor": 2
}
